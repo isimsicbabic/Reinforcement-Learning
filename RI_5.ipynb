{
 "cells": [
  {
   "cell_type": "code",
   "execution_count": 1,
   "metadata": {},
   "outputs": [],
   "source": [
    "import math\n",
    "import numpy as np\n",
    "from scipy import optimize\n",
    "\n",
    "%matplotlib inline\n",
    "import matplotlib.pyplot as plt"
   ]
  },
  {
   "cell_type": "markdown",
   "metadata": {},
   "source": [
    "# The Pizza Problem 🍕\n",
    "\n",
    "Stel je voor dat het vrijdagavond is en je favoriete pizzeria heeft een speciale aanbieding: twee 12\" pizza's voor de prijs van één 18\" pizza. Laten we voor het gemak zeggen dat een 18\" pizza 10 euro kost. Is dit een goede aanbieding?\n",
    "\n",
    "![](pizza_problem_guest_martin_2020.png)\n",
    "\n",
    "Het antwoord is... dat ligt er aan. Deze vraag is eens op twitter gesteld en er kwamen verrassend veel verschillende antwoorden (Guest & Martin, 2020). Sommigen vonden van wel, anderen hadden goede redenen waarom dat niet zo was. Zo zei iemand dat twee pizzas meer is dan een, maar een ander merkte op dat de grote pizza in totaal meer pizza is dan de twee kleine.\n",
    "\n",
    "Welke optie je moet kiezen ligt aan waar je het meeste waarde aan hecht. Welke optie heeft het grootste nut (utility)? \n",
    "\n",
    "## Q1.a (5 pts)\n",
    "\n",
    "Schrijf een _Utility Functie_ `def more_is_better()`, die een persoon beschrijft die zo veel mogelijk pizza wil hebben voor z'n geld. Voor deze persoon is het nut van een pizza uitgedrukt in de oppervlakte. Welke optie kiest deze persoon? \n",
    "\n",
    "ps. 12\" pizza betekent een diameter van 12\" inch, en input van deze functie is aantal en diameter"
   ]
  },
  {
   "cell_type": "code",
   "execution_count": 186,
   "metadata": {},
   "outputs": [
    {
     "name": "stdout",
     "output_type": "stream",
     "text": [
      "De pizza optie met de hoogste oppervlakte is 1 pizza('s) met diameter 18, deze heeft een oppervlakte van 254.47\n"
     ]
    }
   ],
   "source": [
    "def more_is_better(aantal, diameter):\n",
    "    surface = [(np.pi * (dia / 2)**2) * amount for amount, dia in zip(aantal, diameter)]\n",
    "    return (max(surface), np.argmax(surface))\n",
    "\n",
    "aantal, diameter = [2,1], [12,18]\n",
    "max_surface, max_index = more_is_better(aantal, diameter)\n",
    "print(\"De pizza optie met de hoogste oppervlakte is {} pizza('s) met diameter {}, deze heeft een oppervlakte van {:.2f}\"\n",
    "      .format(aantal[max_index], diameter[max_index], max_surface))"
   ]
  },
  {
   "cell_type": "markdown",
   "metadata": {},
   "source": [
    "Als psycholoog heb ik een theorie dat de personen die voor twee pizzas gaan de korst lekkerder vinden dan de pizza zelf. Ik wil kijken of deze theorie dan ook het gedrag van deze mensen kan verklaren.\n",
    "Voor deze persoon is het totale nut van een pizza uitgedrukt in het nut van de korst plus het nut van de pizza binnenkant.\n",
    "\n",
    "## Q1.b (5 pts)\n",
    "Schrijf een _Utilitiy Functie_ `def crust_is_better()` die een persoon beschrijft die eigenlijk meer houdt van de korst dan van de pizza. (input functie is aantal en diameter)\n",
    "\n",
    "Laten we er van uit gaan dat de korst 1 inch dik is. Hoeveel keer moet een persoon de korst op z'n minst lekkerder vinden, om te kiezen voor de optie met twee pizzas? (ongeveer antwoord is goed, maar parameter kan geoptimaliseerd worden). \n"
   ]
  },
  {
   "cell_type": "code",
   "execution_count": 187,
   "metadata": {},
   "outputs": [
    {
     "name": "stdout",
     "output_type": "stream",
     "text": [
      "De persoon kan de optie met 2 pizza('s) lekkerder vinden als deze persoon de korst 2.80 keer zo lekker vindt\n"
     ]
    }
   ],
   "source": [
    "def crust_is_better(aantal, diameter):\n",
    "    korst_dikte = 1\n",
    "    pizza, korst, totaal = [], [], []\n",
    "    for amount, dia in zip(aantal, diameter):\n",
    "        pizza_binnenkant_surface = more_is_better([amount], [dia - korst_dikte * 2])[0]\n",
    "        pizza.append(pizza_binnenkant_surface)\n",
    "        korst_surface = more_is_better([amount], [dia])[0] - pizza_binnenkant_surface\n",
    "        korst.append(korst_surface)\n",
    "        totaal.append(pizza_binnenkant_surface + korst_surface)\n",
    "    best = np.argmax(totaal)\n",
    "    verschil_korst = abs(korst[best] - korst[(best+1)%2])\n",
    "    verschil_totaal = totaal[best] - totaal[(best+1)%2]\n",
    "    keer_zo_lekker = verschil_totaal / verschil_korst + 1\n",
    "    return (best, keer_zo_lekker)\n",
    "    \n",
    "aantal = [2,1]\n",
    "diameter = [12,18]\n",
    "best, crave = crust_is_better(aantal, diameter)\n",
    "print(\"De persoon kan de optie met {} pizza('s) lekkerder vinden als deze persoon de korst {:.2f} keer zo lekker vindt\"\n",
    "     .format(aantal[(best+1)%2], crave))"
   ]
  },
  {
   "cell_type": "markdown",
   "metadata": {},
   "source": [
    "Dit is een hypothetisch voorbeeld van hoe een psychologische theorie keuzegedrag kan formaliseren met een wiskundige formule. Dit kan heel erg behulpzaam zijn, want als deze zo precies opgeschreven is maakt deze ook hele precieze voorspellingen en kan deze ook makkelijk getoetst worden in de toekomst. \n",
    "\n",
    "## Q1.c (5 pts)\n",
    "Stel dat je tot de hypothese gekomen bent dat mensen de korst van de pizza 3 keer zo lekker vinden als de binnenkant. Zal een persoon nog liever drie pizzas van 9 inch willen? "
   ]
  },
  {
   "cell_type": "code",
   "execution_count": 49,
   "metadata": {},
   "outputs": [
    {
     "name": "stdout",
     "output_type": "stream",
     "text": [
      "De persoon kan de optie met 3 pizza('s) lekkerder vinden als deze persoon de korst 3.89 keer zo lekker vindt\n"
     ]
    }
   ],
   "source": [
    "aantal = [3,1]\n",
    "diameter = [9,18]\n",
    "best, crave = crust_is_better(aantal, diameter)\n",
    "print(\"De persoon kan de optie met {} pizza('s) lekkerder vinden als deze persoon de korst {:.2f} keer zo lekker vindt\"\n",
    "     .format(aantal[(best+1)%2], crave))"
   ]
  },
  {
   "cell_type": "markdown",
   "metadata": {},
   "source": [
    "> Dit betekent dat de persoon de korst 3.89 keer zo lekker moet vinden. 3.89 > 3. Dus nee de persoon heeft niet liever 3 pizza's van 9 inch "
   ]
  },
  {
   "cell_type": "markdown",
   "metadata": {},
   "source": [
    "# Een loterij 💰 \n",
    "\n",
    "Zoals in het college besproken is, worden loterijen vaak gebruikt om te bestuderen hoe mensen met onzekerheid omgaan. De hoofdprijs winnen in een loterij is fantastisch, maar het is heel onzeker (de kans is klein) dat je deze ook echt wint. Hier gaan we kort kijken naar deze modellen en deze toepassen op jouw eigen keuzes, om beter te begrijpen hoe jij met risico/onzerkerheid om gaat. \n",
    "\n",
    "## mini-experiment\n",
    "In de bijlage `Risk_Q.pdf` vind je een lijst met keuzes tussen twee loterijen, zoals in het figuur hieronder. Voor elke loterij zijn er telkens twee mogelijke uitkomsten, aan jou de vraag welke loterij je zou kiezen als je er een moest uitkiezen. Kijk goed naar de uitkomsten en kansen en vink aan welke loterij je kiest.\n",
    "\n",
    "![](loterij.png)\n",
    "\n",
    "\n",
    "Als je alle keuzes gemaakt hebt, maak dan een tab delimited .txt bestand met de volgende structuur:\n",
    "\n",
    "    p1,o1,p2,o2: p's and o's of gamble 1  (p is probability, o is outcome)\n",
    "    p3,o3,p4,o4: p's and o's of gamble 2 \n",
    "    decision: choice (1 = gamble 1, 2 = gamble 2)\n",
    "\n",
    "Vul in het door jouw gemaakte file al jouw keuzes in.\n",
    "\n",
    "![](example_data.png)\n",
    "\n",
    "## Q2 (5 pts)\n",
    "\n",
    "In het voorbeeld zie je de header en daaronder een regel met de loterij en keuze van figuur 1. Vul je keuzes ook in, in de file `data_self.txt` en sla de file op als `studentnummer_data.txt` "
   ]
  },
  {
   "cell_type": "markdown",
   "metadata": {},
   "source": [
    "> Files moeten aanwezig zijn en er logisch uitzien, maar keuzes worden dus niet gecontroleerd"
   ]
  },
  {
   "cell_type": "markdown",
   "metadata": {},
   "source": [
    "# Prospect Theory\n",
    "\n",
    "Prospect theory, ook wel cumulative prospect therory (CPT), is een theorie die beschrijft hoe mensen uitkomsten en waarschijnlijkheden afwegen om tot een beslissing te komen. Het gebruikt hiervoor een combinatie van vier verschillende functies:\n",
    "\n",
    "1. Een functie die objectieve uitkomsten transformeert naar subjectieve waarde (V1)\n",
    "2. Een functie die waarschijnlijkheid transformeert naar subjectieve waarschijnlijkheid (W1)\n",
    "3. Een functie die subjectieve waarden en waarschijnlijkheden van een optie integreert tot een subjectieve verwachte waarde (EV)\n",
    "4. Een beslis regel die uitrekent met welke waarschijnlijkheid een van twee opties word gekozen (Softmax)\n",
    "\n",
    "## Q3.a (10 pts)\n",
    "\n",
    "Schrijf voor elke van deze 4 functies een functie in Python. Geef bij elke functie aan welke vrije variabelen deze heeft en wat die betekenen.\n"
   ]
  },
  {
   "cell_type": "code",
   "execution_count": 143,
   "metadata": {},
   "outputs": [],
   "source": [
    "def V1(x, a, b, l):\n",
    "    if x >= 0:\n",
    "        ans = x**a\n",
    "    else:\n",
    "        ans = -l*(-x)**b\n",
    "    return ans\n",
    "# t is de x, op de x-as. A en b bepalen het verloop van de grafiek. En l is de loss aversion coëfficient"
   ]
  },
  {
   "cell_type": "code",
   "execution_count": 70,
   "metadata": {},
   "outputs": [],
   "source": [
    "def W1(p,g):\n",
    "    return (p**g) / (p**g+(1-p**g)**g)**(1/g)\n",
    "# p is de kans en g is de probability weight"
   ]
  },
  {
   "cell_type": "code",
   "execution_count": 166,
   "metadata": {},
   "outputs": [],
   "source": [
    "def EV(x1, px1, x2, px2):\n",
    "    return x1 * px1 + x2 * px2\n",
    "# x zijn twee utility values en p is de kans"
   ]
  },
  {
   "cell_type": "code",
   "execution_count": 74,
   "metadata": {},
   "outputs": [],
   "source": [
    "def softmax(t, R, S):\n",
    "    return 1 / (1 + math.e**(-t*(R - S)))\n",
    "# t is de weight, dus hoeveel waarde wordt gehecht aan het verschillen tussen risico en safe. \n",
    "# en R en S zijn weer twee utility values"
   ]
  },
  {
   "cell_type": "markdown",
   "metadata": {},
   "source": []
  },
  {
   "cell_type": "markdown",
   "metadata": {},
   "source": [
    "## Q3.b (5 pts)\n",
    "\n",
    "Plot de V1 functie voor objectieve waardes tussen 0 en 1000, gebruik makende van verschillende waarden van $\\alpha$, en label deze lijnen voor:\n",
    "\n",
    "$$\\alpha \\in \\{0.5, 0.9, 1.3, 1.7\\}$$\n",
    "\n",
    "*Hint:* Gebruik [vectorize](https://docs.scipy.org/doc/numpy/reference/generated/numpy.vectorize.html) om een bestaande functie op een gehele [ndarray](https://docs.scipy.org/doc/numpy/reference/generated/numpy.ndarray.html) tegelijk te kunnen toepassen, en zo alle subjectieve waardes in 1 keer uit te rekenen.\n",
    "\n",
    "De meeste mensen zijn risicomijdend, waar ligt dus voor de meeste mensen de waarde van $\\alpha$? "
   ]
  },
  {
   "cell_type": "code",
   "execution_count": 84,
   "metadata": {},
   "outputs": [
    {
     "data": {
      "image/png": "[encoded data removed]",
      "text/plain": [
       "<Figure size 432x288 with 1 Axes>"
      ]
     },
     "metadata": {
      "needs_background": "light"
     },
     "output_type": "display_data"
    }
   ],
   "source": [
    "x = np.arange(0,1000)\n",
    "lijst_alpha = [0.5, 0.9, 1.3, 1.7]\n",
    "for a in lijst_alpha:\n",
    "    vec = np.vectorize(V1)\n",
    "    v = np.array(vec(x, a, 0, 0))\n",
    "    plt.plot(x, v, label=\"Alpha waarde: {}\".format(a))\n",
    "\n",
    "plt.xlabel(\"Objectieve waarde\")\n",
    "plt.ylabel(\"Subjectieve waarde\")\n",
    "plt.title(\"Objectieve vs subjectieve waarde\")\n",
    "plt.legend()\n",
    "plt.show()\n",
    "# Een hoge alpha. Mensen hechten over het algemeen eerder een hoge subjectieve waarde aan een hoge objectieve waarde"
   ]
  },
  {
   "cell_type": "markdown",
   "metadata": {},
   "source": [
    "> "
   ]
  },
  {
   "cell_type": "markdown",
   "metadata": {},
   "source": [
    "## Q3.c (5 pts)\n",
    "\n",
    "Plot de V1 functie voor objectieve waardes tussen 0 en -1000, gebruik makende van verschillende waarden van $\\beta$ en $\\lambda$, en label deze lijnen voor:\n",
    "\n",
    "$$\\beta \\in \\{0.5, 0.9\\}$$\n",
    "$$\\lambda \\in \\{0.5, 1.5\\}$$\n",
    "\n",
    "De meeste mensen vinden verliezen van 10 euro relatief erger dan dat ze blij zijn met het winnen van 10 euro, waar ligt dus voor de meeste mensen de waarde van $\\lambda$?  "
   ]
  },
  {
   "cell_type": "code",
   "execution_count": 94,
   "metadata": {},
   "outputs": [
    {
     "data": {
      "image/png": "[encoded data removed]",
      "text/plain": [
       "<Figure size 432x288 with 1 Axes>"
      ]
     },
     "metadata": {
      "needs_background": "light"
     },
     "output_type": "display_data"
    }
   ],
   "source": [
    "x = np.arange(-1000,0)\n",
    "lijst_beta = [0.5, 0.9]\n",
    "lijst_lambda = [0.5, 1.5]\n",
    "vec = np.vectorize(V1)\n",
    "for b in lijst_beta:\n",
    "    for l in lijst_lambda:\n",
    "        v = np.array(vec(x, 0, b, l))\n",
    "        plt.plot(x, v, label=\"Beta {} en lambda {}\".format(b,l))\n",
    "\n",
    "plt.xlabel(\"Objectieve waarde\")\n",
    "plt.ylabel(\"Subjectieve waarde\")\n",
    "plt.title(\"Objectieve vs subjectieve waarde\")\n",
    "plt.legend()\n",
    "plt.show()\n",
    "\n",
    "# Erger vinden om eenzelfde bedrag te verliezen heeft te maken met de lambda waarde. \n",
    "# Voor de meeste mensen zouden ze een hoge lambda waarde hebben (dus in dit geval 1.5)."
   ]
  },
  {
   "cell_type": "markdown",
   "metadata": {},
   "source": []
  },
  {
   "cell_type": "markdown",
   "metadata": {},
   "source": [
    "## Q3.d (5 pts)\n",
    "\n",
    "Plot de W1 functie voor waarschijnlijkheden tussen $0.1$ en $0.9$, gebruik makende van verschillende waarden van $\\gamma$, en label deze lijnen.\n",
    "\n",
    "Bij welke waarde vind je het gebruikelijke patroon dat mensen kleine waarschijnlijkheden meer waarde toekennen en grote waarschijnlijkheden juist minder? (zie grafiek in college slides, plot ook een identity line $(x=y)$)."
   ]
  },
  {
   "cell_type": "code",
   "execution_count": 112,
   "metadata": {},
   "outputs": [
    {
     "data": {
      "image/png": "[encoded data removed]",
      "text/plain": [
       "<Figure size 432x288 with 1 Axes>"
      ]
     },
     "metadata": {
      "needs_background": "light"
     },
     "output_type": "display_data"
    }
   ],
   "source": [
    "gamma_lijst = np.linspace(0.1, 0.9, 5)\n",
    "vec = np.vectorize(W1)\n",
    "for g in gamma_lijst:\n",
    "    w = np.array(vec(gamma_lijst, g))\n",
    "    plt.plot(gamma_lijst, w, label=(\"Gamma waarde {:.2f}\".format(g)))\n",
    "\n",
    "plt.plot(gamma_lijst, gamma_lijst, label=\"Identiteit\")\n",
    "plt.title(\"Probability vs weight\")\n",
    "plt.xlabel(\"Probability\")\n",
    "plt.ylabel(\"Probability weight\")\n",
    "plt.legend()\n",
    "plt.show()\n",
    "\n",
    "# Hier is te zien dat deze handeling plaatsvindt vanaf een gamma waarde van ongeveer 0.3"
   ]
  },
  {
   "cell_type": "markdown",
   "metadata": {},
   "source": []
  },
  {
   "cell_type": "markdown",
   "metadata": {},
   "source": [
    "## Q3.e (5 pts)\n",
    "\n",
    "Laten we nu kijken hoe verschillende parameter waarden kunnen leiden tot verschillende keuzes. Laten we er voor het gemak even van uit gaan dat de proefpersoon altijd simpelweg de optie kiest met de hoogste verwachte uitkomst (geen softmax). Beschouw de volgende twee opties:\n",
    "\n",
    "    A: 1% kans op 1000 euro, en anders niets \n",
    "    B: 50% kans op 20 euro, en anders niets\n",
    "\n",
    "Vergelijk de uitkomsten voor de 4 mogelijke combinaties van $\\alpha \\in \\{0.3, 1.5\\}$ en $\\gamma \\in \\{0.5, 1.0\\}$ en vertel welke loterij door de proefpersoon verkozen wordt. "
   ]
  },
  {
   "cell_type": "code",
   "execution_count": 148,
   "metadata": {},
   "outputs": [
    {
     "name": "stdout",
     "output_type": "stream",
     "text": [
      "De beste optie voor alpha 0.3 en gamma 0.5, is optie A\n",
      "De beste optie voor alpha 0.3 en gamma 1.0, is optie B\n",
      "De beste optie voor alpha 1.5 en gamma 0.5, is optie A\n",
      "De beste optie voor alpha 1.5 en gamma 1.0, is optie A\n"
     ]
    }
   ],
   "source": [
    "alpha_lijst = [0.3, 1.5]\n",
    "gamma_lijst = [0.5, 1.0]\n",
    "vec_v = np.vectorize(V1)\n",
    "vec_w = np.vectorize(W1)\n",
    "for a in alpha_lijst:\n",
    "    for g in gamma_lijst:\n",
    "        v1 = np.array(vec_v(1000, a, 0, 0))\n",
    "        w1 = np.array(vec_w(0.1, g))\n",
    "        v2 = np.array(vec_v(20, a, 0, 0))\n",
    "        w2 = np.array(vec_w(0.5, g))\n",
    "        if v1 * w1 > v2 * w2:\n",
    "            best = 'A'\n",
    "        else:\n",
    "            best = 'B'\n",
    "        print(\"De beste optie voor alpha {} en gamma {}, is optie {}\".format(a, g, best))\n",
    "        \n",
    "# De proefpersoon zal dus voor optie A kiezen, deze is namelijk 3 van de 4 keer als beste optie naar voren gekomen."
   ]
  },
  {
   "cell_type": "markdown",
   "metadata": {},
   "source": [
    "# Model fitting\n",
    "\n",
    "We gaan nu kijken naar de resultaten van een echt experiment. We hebben namelijk de data van een aantal proefpersonen die een heel aantal gambles gedaan heeft. In de data file kunnen we terugvinden welke van de twee opties zij gekozen hebben. We gaan kijken hoe goed CPT het gedrag van de proefpersonen kan voorspellen en wat voor parameter waardes dit oplevert. De data file die we zullen gebruiken is `data_LC5.txt`:\n",
    "\n",
    "    Data Coding:\n",
    "    Subject: is subject nr.\n",
    "    p1,o1,p2,o2: p's and o's of gamble 1  (p is probability, o is outcome)\n",
    "    p3,o3,p4,o4: p's and o's of gamble 2 \n",
    "    decision: choice (1 = gamble 1, 2 = gamble 2)\n",
    "   \n",
    "Elke gamble wordt beschreven, net als hierboven, door twee probabilities en twee outcomes. \n",
    "Schrijf een `CPT_fit` functie, zodat je het model op de data van de proefpersonen kan fitten. \n",
    "We gaan voor het fitten van het model gebruik maken van [optimize.minimize](https://docs.scipy.org/doc/scipy/reference/generated/scipy.optimize.minimize.html) en we gaan proberen de Log Likelihood te maximaliseren.\n",
    "\n",
    "In het databestand van de proefpersoon kunnen we zien welke van de 2 loterijen de proefpersoon koos. Wat we op elke trial willen weten, is wat de waarschijnlijkheid is dat het model dezelfde keuze maakt als de proefpersoon. Hoe groter die kans, hoe beter het model fit.\n",
    "\n",
    "## Q4  (20 pts)\n",
    "\n",
    "Schrijf de functie `CPT_fit`.\n",
    "    \n",
    "* Gegeven een set parameters $\\alpha$, $\\beta$, $\\lambda$, $\\gamma$ en $\\theta$, bereken voor elk van de loterijen in het bestand:\n",
    "    * De subjectieve waarde van de uitkomsten\n",
    "    * De subjectieve waarschijnlijkheden\n",
    "    * De subjectieve verwachte waarde voor een loterij\n",
    "    * De (softmax) waarschijnlijkheid dat de eerste of de tweede loterij wordt gekozen\n",
    "    * De waarschijnlijkheid die correspondeert met de daadwerkelijk gemaakte keuze\n",
    "* De som van de logaritmes van deze waarschijnlijkheden geeft de Log Likelihood voor deze parameters.\n",
    "* Vermenigvuldig dit resultaat nog met $-1$, gegegeven dat we dit willen maximaliseren ipv minimaliseren.\n",
    "\n",
    "Gebruik als startwaarden $\\alpha=0.5$, $\\beta=0.5$, $\\lambda=0.5$, $\\gamma=0.5$ en $\\theta=0.05$, en gebruik [Nelder-Mead](https://docs.scipy.org/doc/scipy/reference/optimize.minimize-neldermead.html#optimize-minimize-neldermead) als de methode voor de minimalisatie.\n",
    "\n",
    "Welke parameterwaarden fitten de data van de proefpersonen het beste? \n",
    "\n",
    "Als we deze parameters voor waar aannemen, hoe kijken deze proefpersonen tegen winsten en verliezen aan? En hoe wegen deze personen waarschijnlijkheden?\n"
   ]
  },
  {
   "cell_type": "code",
   "execution_count": 196,
   "metadata": {
    "scrolled": true
   },
   "outputs": [],
   "source": [
    "with open(\"data_LC5.txt\") as f:\n",
    "    data = np.loadtxt(f, dtype=float, delimiter=\"\\t\", skiprows=1)\n",
    "    \n",
    "def CPT_fit(params):\n",
    "    [a, b, l, g, t] = params\n",
    "    LL = 0\n",
    "    for row in data:\n",
    "        result = [row[4], row[6],row[8],row[10]]\n",
    "        prob = [row[3],row[5],row[7],row[9]]\n",
    "        V = [V1(value, a, b, l) for value in result]\n",
    "        W = [W1(value, g) for value in prob]\n",
    "        EV1 = EV(V[0],W[0],V[1],W[1])\n",
    "        EV2 = EV(V[2],W[2],V[3],W[3])\n",
    "        New = [softmax(t, EV1,EV2), softmax(t, EV2,EV1)]\n",
    "        Best = New[int(row[12]-1)]\n",
    "        LL += np.log(Best)\n",
    "    return -1*LL"
   ]
  },
  {
   "cell_type": "code",
   "execution_count": 197,
   "metadata": {},
   "outputs": [
    {
     "name": "stdout",
     "output_type": "stream",
     "text": [
      "Optimization terminated successfully.\n",
      "         Current function value: 772.939470\n",
      "         Iterations: 432\n",
      "         Function evaluations: 689\n",
      "Alpha waarde  0.780\n",
      "Beta waarde   0.756\n",
      "Lambda waarde 1.437\n",
      "Gamma waarde  0.892\n",
      "Theta waarde  0.045\n"
     ]
    }
   ],
   "source": [
    "opt = optimize.minimize(CPT_fit, np.array([0.5, 0.5, 0.5,0.5,0.05]), method='Nelder-Mead', options={'disp':True})\n",
    "param = opt['x']\n",
    "print(\"Alpha waarde  {:.3f}\\nBeta waarde   {:.3f}\\nLambda waarde {:.3f}\\nGamma waarde  {:.3f}\\nTheta waarde  {:.3f}\"\n",
    "      .format(param[0],param[1],param[2],param[3],param[4]))"
   ]
  },
  {
   "cell_type": "markdown",
   "metadata": {},
   "source": [
    "> De lambda parameter is vrij hoog, dit betekent dat de proefpersonen vrij risicoavers zijn. Ook vinden mensen verliezen zwaarder wegen dan winnen. Mensen overschatten kleine waarschijnlijkheden en onderschatten grote waarschijnlijkheden, kortom niet wiskundig optimaal"
   ]
  },
  {
   "cell_type": "markdown",
   "metadata": {},
   "source": [
    "# Prisoners Dilemma Competitie. \n",
    "We hebben in het college over social decision-making onder andere het prisoners dilemma game besproken. Kijk het voor de zekerheid nog een keer na. We gaan het nu met z'n allen spelen. Open hiervoor het `competition.ipynb` "
   ]
  },
  {
   "cell_type": "code",
   "execution_count": null,
   "metadata": {
    "collapsed": true
   },
   "outputs": [],
   "source": []
  }
 ],
 "metadata": {
  "kernelspec": {
   "display_name": "Python 3",
   "language": "python",
   "name": "python3"
  },
  "language_info": {
   "codemirror_mode": {
    "name": "ipython",
    "version": 3
   },
   "file_extension": ".py",
   "mimetype": "text/x-python",
   "name": "python",
   "nbconvert_exporter": "python",
   "pygments_lexer": "ipython3",
   "version": "3.8.3"
  }
 },
 "nbformat": 4,
 "nbformat_minor": 2
}
