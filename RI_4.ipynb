{
 "cells": [
  {
   "cell_type": "markdown",
   "metadata": {},
   "source": [
    "# Q-Learning pt.2 : State Spaces & Deep Q Networks"
   ]
  },
  {
   "cell_type": "markdown",
   "metadata": {},
   "source": [
    "# Q-learning \n",
    "In de vorige opdracht hebben we gekken naar simpele taken waarbij de state space bekend was en de mogelijke acties ook. Maar vaak zijn de omgevingen een stuk ingewikkelder. In deze opdracht gaan we een paar stapjes verder. We beginnen bij kleine omgevingen die verkend moeten worden, maar nog wel in Q-tables te vangen zijn. Daarna maken we een klein begin met deep Q-networks. Dit is de huidige state-of-the-art in Reinforcement Learning. Aan het eind van deze opdracht moet je een goed idee hebben hoe deze Deep Q Nets werken. \n",
    "\n",
    "## Winter is coming:\n",
    "\n",
    "![](lake.png) \n",
    "Winter is here. You and your friends were tossing around a frisbee at the park when you made a wild throw that left the frisbee out in the middle of the lake. The water is mostly frozen, but there are a few holes where the ice has melted. If you step into one of those holes, you'll fall into the freezing water. At this time, there's an international frisbee shortage, so it's absolutely imperative that you navigate across the lake and retrieve the disc. However, because you don't want to get wet you send out your robot to retrieve the frisbee. The surface is described using a grid like the following:\n",
    "    \n",
    "        State:        State #:\n",
    "        S F F F     0  1  2  3\n",
    "        F H F H     4  5  6  7 \n",
    "        F F F H     8  9  10 11 \n",
    "        H F F G     12 13 14 15 \n",
    "        \n",
    "        \n",
    "    S : starting point, safe\n",
    "    F : frozen surface, safe\n",
    "    H : hole, fall to your doom (instant death)\n",
    "    G : goal, where the frisbee is located\n",
    "    \n",
    "The episode ends when you reach the goal or fall in a hole.\n",
    "    \n",
    "You receive a reward of 1 if you reach the goal, and zero otherwise.\n",
    "\n"
   ]
  },
  {
   "cell_type": "code",
   "execution_count": 1,
   "metadata": {
    "scrolled": true
   },
   "outputs": [],
   "source": [
    "# The Frozenlake is a standard practive environment from the Open AI Gym. \n",
    "# Gym is a toolkit for developing and comparing reinforcement learning algorithms. \n",
    "# It supports teaching agents everything from walking to playing games like Pong or Pinball.\n",
    "# If you do not have this installed yet (shame, shame): https://gym.openai.com/docs/#installation \n",
    "\n",
    "import gym\n",
    "import math\n",
    "import numpy as np\n",
    "import random\n",
    "random.seed(0)\n",
    "\n",
    "%matplotlib inline\n",
    "import matplotlib.pyplot as plt\n"
   ]
  },
  {
   "cell_type": "markdown",
   "metadata": {},
   "source": [
    "### Loading the environment"
   ]
  },
  {
   "cell_type": "code",
   "execution_count": 2,
   "metadata": {},
   "outputs": [],
   "source": [
    "# Let's load the Frozen lake environment\n",
    "# Slippery means that sometimes the robot will slip on the ice and move in a random direction \n",
    "env_4x4 = gym.make('FrozenLake-v0',map_name=\"4x4\",is_slippery=False)"
   ]
  },
  {
   "cell_type": "markdown",
   "metadata": {},
   "source": [
    "### Check the environment"
   ]
  },
  {
   "cell_type": "code",
   "execution_count": 3,
   "metadata": {},
   "outputs": [
    {
     "name": "stdout",
     "output_type": "stream",
     "text": [
      "\n",
      "\u001b[41mS\u001b[0mFFF\n",
      "FHFH\n",
      "FFFH\n",
      "HFFG\n"
     ]
    }
   ],
   "source": [
    "# This function shows your current location and the environment\n",
    "env_4x4.render()"
   ]
  },
  {
   "cell_type": "markdown",
   "metadata": {},
   "source": [
    "### Implement Q-Table learning algorithm\n",
    "\n",
    "Ontwikkel nu een Q learning algoritme dat kan leren hoe het beste van start $S$ naar het doel $G$ te lopen, en dus de wakken de vermijden.\n",
    "\n",
    "Details over Q-learning zijn terug te vinden in de college slides en het hoofdstuk van Gureckis & Love [**computational reinforcement learning**](http://bradlove.org/papers/GureckisLovePress.pdf) en voor meer verdieping in het online boek van [**Sutton & Barto**](http://incompleteideas.net/book/bookdraft2018jan1.pdf) en dan met name hoofdstuk 6.\n",
    "\n",
    "\n",
    "**Let op:** In dit experiment zijn meerdere states. Dit heeft als gevolg dat bij het leren rekening gehouden moet worden met de actie die in de volgende state gemaakt wordt. We gaan er hier daarom vanuit dat de robot altijd de actie kiest met de hoogste Q-value. De prediction error wordt dus:\n",
    "\n",
    "$$\\delta = r_{t+1} + \\gamma\\ max_a\\ Q(s_{t+1} , a) − Q(s_t , a_t)$$\n",
    "\n",
    "Waarbij de Q-value update nog steeds is gedefinieerd als:\n",
    "\n",
    "$$Q(s_t, a_t) = Q(s_t, a_t) + \\alpha \\delta$$\n",
    "\n",
    "In het begin van het experiment heeft de robot geen enkele kennis van de wereld en geen enkele verwachtingen over het krijgen van beloningen. Voor elke actie op elk vlak van het grid geldt dus:\n",
    "\n",
    "$Q(s, LEFT)=Q(s, RIGHT)=Q(s, UP)=Q(s, DOWN)=0$\n",
    "\n",
    "\n",
    "# 1.a (10 punten)\n",
    "\n",
    "Schrijf een functie `q_learn` die als input env (*Open AI Gym* environment), alpha ($\\alpha$), epsilon ($\\epsilon$), gamma ($\\gamma$) en episodes accepteert. \n",
    "\n",
    "De output van deze functie moet een table zijn met $Q$ waarden voor elke state en elke actie. Er zijn 16 states en 4 acties dus in totaal 64 combinaties. Voor de diagnose van het algoritme is het belangrijk een lijst met de totaal verdiende beloningen en ook een lijst met de hoeveelheid stappen tot het doel (per episode) als output te hebben. \n",
    "\n",
    "We gaan er nu van uit dat de robot de $\\epsilon$-greedy keuze regel toepast, waarbij $\\epsilon$ afneemt met de tijd. \n",
    "\n",
    "Hier alvast wat code om je op weg te helpen:\n",
    "\n",
    "```python\n",
    "\n",
    "\n",
    "def q_learn(env, alpha=.8, gamma=.95, epsilon=.1, num_episodes=2000):\n",
    "\n",
    "    # Initialize Q table with all zeros\n",
    "    states = env.observation_space.n\n",
    "    actions = env.action_space.n\n",
    "    Q = np.zeros([states,actions])\n",
    "\n",
    "    # Create lists to contain total rewards and steps per episode\n",
    "    jList = [] #step list\n",
    "    rList = [] #reward list\n",
    "\n",
    "    # Start learning:\n",
    "    for i in range(num_episodes):\n",
    "        # Reset environment and get first new observation\n",
    "        s = env.reset()\n",
    "        # Total rewards this episode start at 0\n",
    "        rAll = 0\n",
    "        # You are still not done: (d is specific to frozen lake) \n",
    "        d = False\n",
    "        # Run counter reset:\n",
    "        j = 0\n",
    "    \n",
    "        # The Q-Table learning algorithm, each episode consists of several learning runs (loops)\n",
    "        while j < 100:\n",
    "            j+=1\n",
    "        \n",
    "            # Choose an action by greedily picking from Q table\n",
    "            # NOTE (a)ctions in FrozenLake are 0:left,1:down,2:right,3:up  (this is hardcoded in env.)\n",
    "            \n",
    "            # implement the e-greedy rule\n",
    "            # As in previous laptop colleges arbitrate between draws when there is more than one max Q\n",
    "                \n",
    "            a = # TODO\n",
    "            \n",
    "                 \n",
    "            # Get new state and reward from environment, this can/must be done with env.step from the Gym\n",
    "            # where s1 is the new state, r is the reward, and d means the end (hole or frisbee)\n",
    "            s1,r,d,_ = env.step(a)\n",
    "            \n",
    "            # Update Q-Table with new knowledge (assume you pick a with highest value in that state)\n",
    "            Q[s,a] = # TODO\n",
    "            \n",
    "            \n",
    "            # Update total rewards\n",
    "            rAll += r\n",
    "            \n",
    "            # If frisbee or hole (d) then end run\n",
    "            # TODO\n",
    "            \n",
    "            \n",
    "            # Update state\n",
    "            s = s1\n",
    "        \n",
    "   \n",
    "        # Update e, reducing exploration over episodes\n",
    "        epsilon = epsilon*.999\n",
    "        jList.append(j)\n",
    "        rList.append(rAll)\n",
    "    \n",
    "    return (rList, jList, Q)  \n",
    "```\n",
    "\n",
    "De ingevoerde hyperparameters werken goed maar voel je vrij om hier mee te experimenteren. \n"
   ]
  },
  {
   "cell_type": "code",
   "execution_count": 4,
   "metadata": {},
   "outputs": [],
   "source": [
    "def q_learn(env, alpha=.8, gamma=.95, epsilon=.1, num_episodes=2000):\n",
    "\n",
    "    # Initialize Q table with all zeros\n",
    "    states = env.observation_space.n\n",
    "    actions = env.action_space.n\n",
    "    Q = np.zeros([states,actions])\n",
    "\n",
    "    # Create lists to contain total rewards and steps per episode\n",
    "    jList = [] #step list\n",
    "    rList = [] #reward list\n",
    "\n",
    "    # Start learning:\n",
    "    for i in range(num_episodes):\n",
    "        # Reset environment and get first new observation\n",
    "        s = env.reset()\n",
    "        # Total rewards this episode start at 0\n",
    "        rAll = 0\n",
    "        # You are still not done: (d is specific to frozen lake) \n",
    "        d = False\n",
    "        # Run counter reset:\n",
    "        j = 0\n",
    "    \n",
    "        # The Q-Table learning algorithm, each episode consists of several learning runs (loops)\n",
    "        while j < 100:\n",
    "            j+=1\n",
    "        \n",
    "            # Choose an action by greedily picking from Q table\n",
    "            # NOTE (a)ctions in FrozenLake are 0:left,1:down,2:right,3:up  (this is hardcoded in env.)\n",
    "            \n",
    "            # implement the e-greedy rule\n",
    "            # As in previous laptop colleges arbitrate between draws when there is more than one max Q\n",
    "            if random.random() < epsilon:\n",
    "                a = random.randint(0, actions-1)\n",
    "            else:\n",
    "                As = np.argwhere(Q[s,:] == np.amax(Q[s,:])).flatten()\n",
    "                if len(As) > 1:\n",
    "                    a = np.random.choice(As)\n",
    "                else:\n",
    "                    a = As[0]\n",
    "                 \n",
    "            # Get new state and reward from environment, this can/must be done with env.step from the Gym\n",
    "            # where s1 is the new state, r is the reward, and d means the end (hole or frisbee)\n",
    "            s1,r,d,_ = env.step(a)\n",
    "            \n",
    "            # Update Q-Table with new knowledge (assume you pick a with highest value in that state)\n",
    "            delta = r + gamma * max(Q[s1,:]) - Q[s,a]\n",
    "            Q[s,a] += alpha * delta\n",
    "            \n",
    "            \n",
    "            # Update total rewards\n",
    "            rAll += r\n",
    "            \n",
    "            # If frisbee or hole (d) then end run\n",
    "            if d:\n",
    "                break\n",
    "            \n",
    "            \n",
    "            # Update state\n",
    "            s = s1\n",
    "        \n",
    "   \n",
    "        # Update e, reducing exploration over episodes\n",
    "        epsilon = epsilon*.999\n",
    "        jList.append(j)\n",
    "        rList.append(rAll)\n",
    "    \n",
    "    return (rList, jList, Q) "
   ]
  },
  {
   "cell_type": "code",
   "execution_count": 5,
   "metadata": {},
   "outputs": [
    {
     "name": "stdout",
     "output_type": "stream",
     "text": [
      "0.719\n"
     ]
    },
    {
     "data": {
      "image/png": "[encoded data removed]",
      "text/plain": [
       "<Figure size 432x288 with 1 Axes>"
      ]
     },
     "metadata": {
      "needs_background": "light"
     },
     "output_type": "display_data"
    }
   ],
   "source": [
    "width = 10\n",
    "env = env_4x4\n",
    "s = env.reset()\n",
    "R, J, Q = q_learn(env, num_episodes=1000)\n",
    "plt.plot(Q)\n",
    "print(np.average(R))"
   ]
  },
  {
   "cell_type": "code",
   "execution_count": 6,
   "metadata": {},
   "outputs": [
    {
     "data": {
      "text/plain": [
       "[<matplotlib.lines.Line2D at 0x7f0df9f2a5d0>]"
      ]
     },
     "execution_count": 6,
     "metadata": {},
     "output_type": "execute_result"
    },
    {
     "data": {
      "image/png": "[encoded data removed]",
      "text/plain": [
       "<Figure size 432x288 with 1 Axes>"
      ]
     },
     "metadata": {
      "needs_background": "light"
     },
     "output_type": "display_data"
    }
   ],
   "source": [
    "R = np.array(R)\n",
    "resultR = R[:(R.size // width * width)].reshape(-1, width).mean(axis=1)\n",
    "plt.plot(resultR, label=r\"$1$\")"
   ]
  },
  {
   "cell_type": "code",
   "execution_count": 7,
   "metadata": {},
   "outputs": [
    {
     "data": {
      "text/plain": [
       "[<matplotlib.lines.Line2D at 0x7f0df9e94dd0>]"
      ]
     },
     "execution_count": 7,
     "metadata": {},
     "output_type": "execute_result"
    },
    {
     "data": {
      "image/png": "[encoded data removed]",
      "text/plain": [
       "<Figure size 432x288 with 1 Axes>"
      ]
     },
     "metadata": {
      "needs_background": "light"
     },
     "output_type": "display_data"
    }
   ],
   "source": [
    "plt.plot(R, J)"
   ]
  },
  {
   "cell_type": "markdown",
   "metadata": {},
   "source": [
    "\n",
    "# 1.b   (10 punten)     \n",
    "Laat me behulp van deze functie de robot 1000 episodes leren over deze wereld (1 leer episode bestaat dus uit max 100 trials). Bereken de gemiddelde score over alle episodes (heel soms komt dit model niet op de oplossing run het dan nog eens). \n",
    "\n",
    "Plot ook in bins van 10 trials (dus gemiddelde beloning per bin van 10 trials), de verandering in beloningen over tijd. Waar ligt het omslag punt? \n",
    "\n",
    "Plot ook in bins van 10 trails, de hoeveelheid stappen die er gemaakt zijn. Hoe kort is de korste route tot succes waar het model op uitkomt? Hoe verhoudt zich dit tot de werkelijke kortste route?"
   ]
  },
  {
   "cell_type": "markdown",
   "metadata": {},
   "source": [
    "> De gemiddelde reward is ongeveer 0.85.<br>\n",
    "Het omslagpunt is te zien in de grafiek tussen de 5e en 25e bin (1 bin = 10 trials). Hierna wordt de beloning veel vaker gekregen. <br>\n",
    "De kortste route tot succes is 6 stappen (met de laatste stap naar de reward meegeteld), dit is ook de werkelijk kortste route."
   ]
  },
  {
   "cell_type": "markdown",
   "metadata": {},
   "source": [
    "# Q tables\n",
    "# 1.c (5 punten)\n",
    "\n",
    "Laten we nu naar de $Q$ tables gaan kijken. We kunnen zo inspecteren welk route de robot zou lopen als deze altijd max$Q$ zou kiezen (dus puur greedy, $epsilon$=0).\n",
    "\n",
    "Gebruik nu de final $Q$ table die `learn_q()` aan het eind geeft. Hierbij is elke kolom de lijst van Q values voor 1 actie in alle 16 states. Dus `output[2][:,0]` geeft je de meest linker kolom en dat zijn de Q values voor actie naar links bewegen. \n",
    "\n",
    "Zorg dat je een lijst krijgt (Qmax) met voor elke state de actie die de hoogste Q value had. Representeer hier elke actie met een getal (0=links, 1=beneden, 2=rechts, 3=boven). Plot vervolgens deze lijst in een grid: \n",
    "\n",
    "```python\n",
    "env_4x4.render()\n",
    "print()\n",
    "\n",
    "Qmax=np.asarray(Qmax).reshape((4,4))\n",
    "print(Qmax)\n",
    "\n",
    "plt.matshow(Qmax)\n",
    "plt.show()\n",
    "```\n",
    "\n",
    "Hiervoor gebruiken we [matshow](https://matplotlib.org/api/_as_gen/matplotlib.pyplot.matshow.html), om te zorgen dat de verschillende waarde in de matrix getoond worden met verschillende kleuren. Donkere kleuren zijn hierbij lage waardes en lichte kleuren hogere waardes.\n",
    "\n",
    "Ga nu na hoe de robot loopt, gaat deze links of rechts langs het wak linksboven op de kaart. "
   ]
  },
  {
   "cell_type": "code",
   "execution_count": 8,
   "metadata": {},
   "outputs": [
    {
     "name": "stdout",
     "output_type": "stream",
     "text": [
      "  (Right)\n",
      "SFFF\n",
      "FHFH\n",
      "FFFH\n",
      "HFF\u001b[41mG\u001b[0m\n",
      "\n",
      "[[1 0 0 0]\n",
      " [1 0 0 0]\n",
      " [2 1 0 0]\n",
      " [0 2 2 0]]\n"
     ]
    },
    {
     "data": {
      "image/png": "[encoded data removed]",
      "text/plain": [
       "<Figure size 288x288 with 2 Axes>"
      ]
     },
     "metadata": {
      "needs_background": "light"
     },
     "output_type": "display_data"
    },
    {
     "name": "stdout",
     "output_type": "stream",
     "text": [
      " 0=left\n",
      " 1=down\n",
      " 2=right\n",
      " 3=up\n",
      "De robot gaat in deze versie links langs het wak linksboven op de kaart\n"
     ]
    }
   ],
   "source": [
    "Q_max = []\n",
    "state_Q = []\n",
    "count = 0\n",
    "for state in Q:\n",
    "    best = np.argmax(state)\n",
    "    state_Q.append(best)\n",
    "    count += 1\n",
    "    if count == 4:\n",
    "        Q_max.append(state_Q)\n",
    "        count = 0\n",
    "        state_Q = []\n",
    "        \n",
    "Q_max = np.array(Q_max)\n",
    "# print(Q_max)\n",
    "\n",
    "env.render()\n",
    "print()\n",
    "\n",
    "Qmax=np.asarray(Q_max).reshape((4,4))\n",
    "print(Qmax)\n",
    "\n",
    "plt.matshow(Qmax)\n",
    "plt.colorbar()\n",
    "plt.show()\n",
    "\n",
    "print(\" 0=left\\n 1=down\\n 2=right\\n 3=up\")\n",
    "print(\"De robot gaat in deze versie links langs het wak linksboven op de kaart\")"
   ]
  },
  {
   "cell_type": "markdown",
   "metadata": {},
   "source": [
    "# 2 Loading the slippery environment\n",
    "We bekijken nu even snel de situatie waarin de robot zich op glad ijs begeeft. Dit houdt in dat de robot af en toe gewoon een andere kant opschuift. Laadt de omgeving opnieuw in, maar nu met `is_slippery=True`. Deze omgeving is als trainings omgeving bedacht omdat er vaak ruis (noise) zit in de omgeving (of in perceptie zelf) en dus soms dingen net anders lopen dan verwacht. Een goed robust algortime kan hier dan ook mee leren omgaan. \n",
    "\n",
    "Het testen van een algoritme in een simulatie van een perfecte wereld, zoals hierboven, kan tot catastrofale uitkomsten leiden wanneer deze wordt losgelaten in de echte wereld (waarbij de weg ineens glad kan zijn of er een sterke storm opsteekt, er is altijd wel iets onvoorzien). "
   ]
  },
  {
   "cell_type": "code",
   "execution_count": 9,
   "metadata": {},
   "outputs": [],
   "source": [
    "#let's load the Frozen lake environment\n",
    "#slippery means that sometimes the robot will slip on the ice and move in a random direction \n",
    "env_slip = gym.make('FrozenLake-v0',map_name=\"4x4\",is_slippery=True)"
   ]
  },
  {
   "cell_type": "markdown",
   "metadata": {},
   "source": [
    "## 2.a (5 punten)\n",
    "Run hetzelfde `q_learn` algoritme, met dezelfde parameter waardes. Laat nu ook weer de gemiddelde score zien, en ook hoe de gemiddelde beloning en het aantal stappen met de tijd verandert. Vergelijk dit met de non-slippery omgeving van hiervoor, noem de meest opvallende verschillen en leg uit waarom we die zien. "
   ]
  },
  {
   "cell_type": "code",
   "execution_count": 10,
   "metadata": {},
   "outputs": [
    {
     "name": "stdout",
     "output_type": "stream",
     "text": [
      "0.154\n",
      "154\n",
      "846\n"
     ]
    },
    {
     "data": {
      "image/png": "[encoded data removed]",
      "text/plain": [
       "<Figure size 432x288 with 1 Axes>"
      ]
     },
     "metadata": {
      "needs_background": "light"
     },
     "output_type": "display_data"
    }
   ],
   "source": [
    "env = env_slip\n",
    "s = env.reset()\n",
    "R, J, Q = q_learn(env, num_episodes=1000)\n",
    "\n",
    "print(np.average(R))\n",
    "R = np.array(R)\n",
    "resultR = R[:(R.size // width * width)].reshape(-1, width).mean(axis=1)\n",
    "plt.plot(resultR, label=r\"$1$\")\n",
    "N = list(R).count(1)\n",
    "M = list(R).count(0)\n",
    "print(N)\n",
    "print(M)"
   ]
  },
  {
   "cell_type": "markdown",
   "metadata": {},
   "source": [
    "De gemiddelde score is nu rond de 0.15, dus veel lager dan de non-slippery omgeving. Dit komt (natuurlijk) door\n",
    "het feit dat er nu soms random stappen genomen worden, die ervoor zorgen dat de robot vaak in een gat terechtkomt. Alsnog lijkt de robot te leren en is een redelijk omslagpunt zichtbaar rond de 380 (ong 40 bins) episodes, waarna veel vaker de beloning gehaald wordt."
   ]
  },
  {
   "cell_type": "markdown",
   "metadata": {},
   "source": [
    "### Noise & policy changes\n",
    "Wat niet goed te zien is in de Frozen Lake, maar wat we wel in het college hebben gezien bij de Clif Walking omgeving, is dat noise ook kan leiden tot een andere strategy. Zo kan het algoritme bijvoorbeeld leren om met een boog om de klif, of in dit geval een wak, heen te lopen. "
   ]
  },
  {
   "cell_type": "markdown",
   "metadata": {},
   "source": [
    "# 3 Loading the 8x8 environment\n",
    "We gaat het nu wat moeilijker maken en maken het ijsmeer wat groter. Laad nu het **niet gladde** grotere ijsmeer in:\n",
    "```python\n",
    "env = gym.make('FrozenLake-v0',map_name=\"8x8\",is_slippery=False)\n",
    "```"
   ]
  },
  {
   "cell_type": "code",
   "execution_count": 11,
   "metadata": {},
   "outputs": [],
   "source": [
    "env_8x8 = gym.make('FrozenLake-v0',map_name=\"8x8\",is_slippery=False)"
   ]
  },
  {
   "cell_type": "markdown",
   "metadata": {},
   "source": [
    "Check even deze nieuwe omgeving: `env.render()` "
   ]
  },
  {
   "cell_type": "code",
   "execution_count": 12,
   "metadata": {},
   "outputs": [
    {
     "name": "stdout",
     "output_type": "stream",
     "text": [
      "\n",
      "\u001b[41mS\u001b[0mFFFFFFF\n",
      "FFFFFFFF\n",
      "FFFHFFFF\n",
      "FFFFFHFF\n",
      "FFFHFFFF\n",
      "FHHFFFHF\n",
      "FHFFHFHF\n",
      "FFFHFFFG\n"
     ]
    }
   ],
   "source": [
    "# this function shows your current location and the environment\n",
    "env_8x8.render()"
   ]
  },
  {
   "cell_type": "markdown",
   "metadata": {},
   "source": [
    "## 3.a. (5 punten)\n",
    "Het nieuwe meer is 8x8 maar verder helemaal hezelfde. We kunnen dan ook weer hetzelfde `q_learn()` hier op los laten. Doe dit, met weer dezelfde parameter waardes als je eerder bij de 4x4 hebt gebruikt. Rapporteer wederom hoe goed de robot het doet in termen van verkregen beloningen en aantal stappen genomen. Zie je ook een omslag punt?"
   ]
  },
  {
   "cell_type": "markdown",
   "metadata": {},
   "source": [
    "De robot doet het over het algemeen slechter dan bij de 4x4 environment, met een vaak lager verkregen waarde van een run van een gemiddelde reward (deze keer toevallig 0.033), maar er is wel een duidelijk omslagpunt zichtbaar, deze keer rond de 900."
   ]
  },
  {
   "cell_type": "code",
   "execution_count": 13,
   "metadata": {},
   "outputs": [
    {
     "name": "stdout",
     "output_type": "stream",
     "text": [
      "0.592\n",
      "592\n",
      "408\n"
     ]
    },
    {
     "data": {
      "image/png": "[encoded data removed]",
      "text/plain": [
       "<Figure size 432x288 with 1 Axes>"
      ]
     },
     "metadata": {
      "needs_background": "light"
     },
     "output_type": "display_data"
    }
   ],
   "source": [
    "env = env_8x8\n",
    "s = env.reset()\n",
    "R, J, Q = q_learn(env, num_episodes=1000)\n",
    "\n",
    "R = np.array(R)\n",
    "resultR = R[:(R.size // width * width)].reshape(-1, width).mean(axis=1)\n",
    "plt.plot(resultR, label=r\"$1$\")\n",
    "print(np.average(R))\n",
    "N = list(R).count(1)\n",
    "M = list(R).count(0)\n",
    "print(N)\n",
    "print(M)"
   ]
  },
  {
   "cell_type": "markdown",
   "metadata": {},
   "source": [
    "## 3.b. Model Priors, wereld kennis (10 punten)\n",
    "\n",
    "In het grid van 8x8 zien we dat de robot velen trials nodig heeft om een simpele taak op te lossen. En dit is nog een erg simpele wereld met slechts 64 states! We gaan nu proberen of we de Q-learning robot een beetje kunnen helpen sneller te leren. Zoals we in het college gezien hebben (en zie [hier](https://arxiv.org/pdf/1802.10217.pdf)) zijn mensen heel snel in het leren van computer games omdat ze hun kennis over de wereld toepassen op de spelwereld. Laten we dat hier ook proberen en de robot wat meer kennis geven. \n",
    "\n",
    "Om te beginnen is het voor de robot nu niet heel duidelijk dat in een wak vallen een slecht idee is. De beloning die er bij hoort is nu nul. Het is voor mensen duidelijk dat in een wak vallen niet goed is voor het doel behalen. Zo kan je dus een kleine aanpassing maken.\n",
    "Implementeer ook het volgende:\n",
    "\n",
    "```python\n",
    " if d and r == 0:\n",
    "     r = -1\n",
    "```\n",
    "\n",
    "doe dit direct na de `env.step()` stap waarbij dus net `r` is bepaald. Dit zal het model helpen sneller te leren om wakken te vermijden, door daar een negatieve reward aan te geven.  Zorg dat je deze toevoeging ook makkelijk weer aan of uit kunt zetten, zodat je het algoritme met en zonder deze toevoeging kunt testen.\n",
    "\n",
    "Implementeer daarnaast ook nog de volgende twee toevoegingen in het `q_learn` model, die ook makkelijk aan of uit moeten kunnen voor de tests:\n",
    "\n",
    "1.  Leer de robot dat als je in een wak loopt, je ook in dit wak loopt als je van een andere kant op het zelfde hokje loopt. Stel je loopt van boven in een wak, leer dan meteen dat je ook in datzelfde wak loopt als je er van links, rechts of van onder in loopt. Met andere woorden introduceer een minimale versie van een cognitive map!\n",
    "    * *Hint: Houd hierbij rekening met de boundaries, update geen states die niet bestaan of niet in 1 stap bereikbaar zijn.*\n",
    "\n",
    "2. Leer snel af om tegen muren aan te lopen. Tegen een muur aanlopen is nu nog geoorloofd. Wanneer dit gebeurt keert de robot simpelweg terug naar de plek waar hij vandaan kwam, wat resulteert in een reward van 0. Zorg dat de robot dit niet meer doet.\n",
    "    * *Hint: Leer dit de robot niet af door hier ook een negatieve reward aan te geven, want dan worden de rewards onderling lastiger te vergelijken (gezien er dan meerdere negatieve rewards en 1 positieve reward in een episode kunnen zitten). In plaats daarvan zou je de Q-value van de action zelf kunnen aanpassen of aanpassen hoe de action selection precies werkt.*\n",
    "\n",
    "Beide veranderingen kunnen op verschillende manieren worden geimplementeerd. Je kan naar de Q tables kijken om te zien of jouw implementatie gewerkt heeft. \n",
    "\n",
    "Run de verschillende implementaties van het model, met geen, een of een combinatie van meerdere elementen van kennis. Run elk model 20 keer voor 500 episodes en vergelijk de average rewards. Beschrijf hoe elk element wel of niet bijdraagt aan beter of sneller leren. \n"
   ]
  },
  {
   "cell_type": "code",
   "execution_count": 14,
   "metadata": {},
   "outputs": [],
   "source": [
    "def q_learn(env, alpha=.8, gamma=.95, epsilon=.1, num_episodes=2000, cog_map=True, block_wall=True):\n",
    "\n",
    "    # Initialize Q table with all zeros\n",
    "    states = env.observation_space.n\n",
    "    actions = env.action_space.n\n",
    "    Q = np.zeros([states,actions])\n",
    "\n",
    "    # Create lists to contain total rewards and steps per episode\n",
    "    jList = [] #step list\n",
    "    rList = [] #reward list\n",
    "\n",
    "    # Start learning:\n",
    "    for i in range(num_episodes):\n",
    "        # Reset environment and get first new observation\n",
    "        s = env.reset()\n",
    "        # Total rewards this episode start at 0\n",
    "        rAll = 0\n",
    "        # You are still not done: (d is specific to frozen lake) \n",
    "        d = False\n",
    "        # Run counter reset:\n",
    "        j = 0\n",
    "    \n",
    "        # The Q-Table learning algorithm, each episode consists of several learning runs (loops)\n",
    "        while j < 100:\n",
    "            j+=1\n",
    "        \n",
    "            # Choose an action by greedily picking from Q table\n",
    "            # NOTE (a)ctions in FrozenLake are 0:left,1:down,2:right,3:up  (this is hardcoded in env.)\n",
    "            \n",
    "            # implement the e-greedy rule\n",
    "            # As in previous laptop colleges arbitrate between draws when there is more than one max Q\n",
    "            \n",
    "            if random.random() < epsilon:\n",
    "                a = random.randint(0, actions-1)\n",
    "            else:\n",
    "                As = np.argwhere(Q[s,:] == np.amax(Q[s,:])).flatten()\n",
    "                if len(As) > 1:\n",
    "                    a = np.random.choice(As)\n",
    "                else:\n",
    "                    a = As[0]\n",
    "\n",
    "            # Get new state and reward from environment, this can/must be done with env.step from the Gym\n",
    "            # where s1 is the new state, r is the reward, and d means the end (hole or frisbee)\n",
    "            s1,r,d,_ = env.step(a)\n",
    "            update = [(s, a)]\n",
    "            \n",
    "            # First improvement\n",
    "            if d and r == 0:\n",
    "                r = -1\n",
    "            \n",
    "            # Second improvement\n",
    "            if cog_map:\n",
    "                env_P = env.P\n",
    "                update = []\n",
    "                for img_state in env_P:\n",
    "                        for pos_move in env_P[img_state]:\n",
    "                            if img_state != s1:\n",
    "                                if env_P[img_state][pos_move][0][1] == s1:\n",
    "                                    update.append((img_state, pos_move))\n",
    "            \n",
    "            # Update Q-Table with new knowledge (assume you pick a with highest value in that state)\n",
    "            # Third improvement\n",
    "            if block_wall:\n",
    "                if s1 == s:\n",
    "                    Q[s,a] = -1\n",
    "            else:\n",
    "                for state, action in update:\n",
    "                    delta = r + gamma * max(Q[s1,:]) - Q[state, action]\n",
    "                    Q[state,action] += alpha * delta\n",
    "            \n",
    "            \n",
    "            # Update total rewards\n",
    "            rAll += r\n",
    "            \n",
    "            # If frisbee or hole (d) then end run\n",
    "            if d:\n",
    "                break\n",
    "            \n",
    "            \n",
    "            # Update state\n",
    "            s = s1\n",
    "        \n",
    "   \n",
    "        # Update e, reducing exploration over episodes\n",
    "        epsilon = epsilon*.999\n",
    "        jList.append(j)\n",
    "        rList.append(rAll)\n",
    "    \n",
    "    return (rList, jList, Q) "
   ]
  },
  {
   "cell_type": "code",
   "execution_count": 15,
   "metadata": {},
   "outputs": [
    {
     "name": "stdout",
     "output_type": "stream",
     "text": [
      "Het gemiddelde van cog_map = True and block_wall = True is: reward = -19.916 en #stappen = 509.594\n",
      "Het gemiddelde van cog_map = True and block_wall = False is: reward = -19.888 en #stappen = 1939.364\n",
      "Het gemiddelde van cog_map = False and block_wall = False is: reward = 6.408 en #stappen = 614.642\n",
      "Het gemiddelde van cog_map = False and block_wall = True is: reward = -19.900 en #stappen = 515.504\n"
     ]
    }
   ],
   "source": [
    "episodes, iters = 500, 20\n",
    "options = [[True, True], [True, False], [False, False], [False, True]]\n",
    "for cog, wall in options:\n",
    "    total_R, total_J = 0, 0\n",
    "    for _ in range(iters):\n",
    "        R, J, Q = q_learn(env, num_episodes=episodes, cog_map=cog, block_wall=wall)\n",
    "        total_R += np.mean(R)\n",
    "        total_J += np.mean(J)\n",
    "    print(\"Het gemiddelde van cog_map = {} and block_wall = {} is: reward = {:.3f} en #stappen = {:.3f}\".format(cog, wall, np.mean(total_R), np.mean(total_J)))"
   ]
  },
  {
   "cell_type": "markdown",
   "metadata": {},
   "source": [
    "> Volgens de verkregen waardes geeft cog_map en block_wall allebei uit de hoogste rewards. En zijn de runs met block_wall aan met het minste aantal stappen. De run met beide variabelen uit heeft de meeste stappen maar dus ook de beste rewards. "
   ]
  },
  {
   "cell_type": "markdown",
   "metadata": {},
   "source": [
    "## 3.c. (10 punten)\n",
    "Verzin zelf nog een ingreep die het model beter kan laten leren, denk dan vooral na over hoe mensen het spel zouden spelen (common sense). Laat zien hoe veel beter jou model werkt (de beste implementaties zullen we bespreken in het college). "
   ]
  },
  {
   "cell_type": "markdown",
   "metadata": {},
   "source": [
    "> Het idee is om de agent geen stappen terug te laten zetten als er een andere optie is"
   ]
  },
  {
   "cell_type": "code",
   "execution_count": 16,
   "metadata": {},
   "outputs": [],
   "source": [
    "def q_learn(env, alpha=.8, gamma=.95, epsilon=.1, num_episodes=2000, cog_map=True, block_wall=True, step_back=True):\n",
    "\n",
    "    # Initialize Q table with all zeros\n",
    "    states = env.observation_space.n\n",
    "    actions = env.action_space.n\n",
    "    Q = np.zeros([states,actions])\n",
    "\n",
    "    # Create lists to contain total rewards and steps per episode\n",
    "    jList = [] #step list\n",
    "    rList = [] #reward list\n",
    "\n",
    "    # Start learning:\n",
    "    for i in range(num_episodes):\n",
    "        # Reset environment and get first new observation\n",
    "        s = env.reset()\n",
    "        # Total rewards this episode start at 0\n",
    "        rAll = 0\n",
    "        # You are still not done: (d is specific to frozen lake) \n",
    "        d = False\n",
    "        # Run counter reset:\n",
    "        j = 0\n",
    "        \n",
    "        found_a = False\n",
    "    \n",
    "        # The Q-Table learning algorithm, each episode consists of several learning runs (loops)\n",
    "        while j < 100:\n",
    "            j+=1\n",
    "        \n",
    "            # Choose an action by greedily picking from Q table\n",
    "            # NOTE (a)ctions in FrozenLake are 0:left,1:down,2:right,3:up  (this is hardcoded in env.)\n",
    "            \n",
    "            # implement the e-greedy rule\n",
    "            # As in previous laptop colleges arbitrate between draws when there is more than one max Q\n",
    "            \n",
    "            if random.random() < epsilon:\n",
    "                a = random.randint(0, actions-1)\n",
    "            else:\n",
    "                As = np.argwhere(Q[s,:] == np.amax(Q[s,:])).flatten()    \n",
    "                if len(As) > 1:\n",
    "                    \n",
    "                    # Own addition\n",
    "                    if step_back:\n",
    "                        if found_a:\n",
    "                            move_not = (a + 2) % 4\n",
    "                            if move_not in As:\n",
    "                                As = list(As)\n",
    "                                As.remove(move_not)\n",
    "                                As = np.array(As)\n",
    "                                \n",
    "                    a = np.random.choice(As)\n",
    "                else:\n",
    "                    a = As[0]\n",
    "\n",
    "            # Get new state and reward from environment, this can/must be done with env.step from the Gym\n",
    "            # where s1 is the new state, r is the reward, and d means the end (hole or frisbee)\n",
    "            s1,r,d,_ = env.step(a)\n",
    "            update = [(s, a)]\n",
    "            \n",
    "            # First improvement\n",
    "            if d and r == 0:\n",
    "                r = -1\n",
    "            \n",
    "            # Second improvement\n",
    "            if cog_map:\n",
    "                env_P = env.P\n",
    "                update = []\n",
    "                for img_state in env_P:\n",
    "                        for pos_move in env_P[img_state]:\n",
    "                            if img_state != s1:\n",
    "                                if env_P[img_state][pos_move][0][1] == s1:\n",
    "                                    update.append((img_state, pos_move))\n",
    "            \n",
    "            # Update Q-Table with new knowledge (assume you pick a with highest value in that state)\n",
    "            # Third improvement\n",
    "            if block_wall:\n",
    "                if s1 == s:\n",
    "                    Q[s,a] = -1\n",
    "            else:\n",
    "                for state, action in update:\n",
    "                    delta = r + gamma * max(Q[s1,:]) - Q[state, action]\n",
    "                    Q[state,action] += alpha * delta\n",
    "            \n",
    "            \n",
    "            # Update total rewards\n",
    "            rAll += r\n",
    "            \n",
    "            # If frisbee or hole (d) then end run\n",
    "            if d:\n",
    "                break\n",
    "            \n",
    "            \n",
    "            # Update state\n",
    "            s = s1\n",
    "            \n",
    "            found_a = a\n",
    "        \n",
    "   \n",
    "        # Update e, reducing exploration over episodes\n",
    "        epsilon = epsilon*.999\n",
    "        jList.append(j)\n",
    "        rList.append(rAll)\n",
    "    \n",
    "    return (rList, jList, Q) "
   ]
  },
  {
   "cell_type": "code",
   "execution_count": 17,
   "metadata": {},
   "outputs": [
    {
     "name": "stdout",
     "output_type": "stream",
     "text": [
      "Het gemiddelde van cog_map = True and block_wall = True is: reward = -19.516 en #stappen = 309.984\n",
      "Het gemiddelde van cog_map = True and block_wall = False is: reward = 10.088 en #stappen = 493.200\n",
      "Het gemiddelde van cog_map = False and block_wall = False is: reward = 14.040 en #stappen = 358.460\n",
      "Het gemiddelde van cog_map = False and block_wall = True is: reward = -19.464 en #stappen = 307.522\n"
     ]
    }
   ],
   "source": [
    "episodes, iters = 500, 20\n",
    "options = [[True, True], [True, False], [False, False], [False, True]]\n",
    "for cog, wall in options:\n",
    "    total_R, total_J = 0, 0\n",
    "    for _ in range(iters):\n",
    "        R, J, Q = q_learn(env, num_episodes=episodes, cog_map=cog, block_wall=wall)\n",
    "        total_R += np.mean(R)\n",
    "        total_J += np.mean(J)\n",
    "    print(\"Het gemiddelde van cog_map = {} and block_wall = {} is: reward = {:.3f} en #stappen = {:.3f}\".format(cog, wall, np.mean(total_R), np.mean(total_J)))"
   ]
  },
  {
   "cell_type": "markdown",
   "metadata": {},
   "source": [
    "> De implementatie werkt erg goed. De rewards voor block_wall False zijn allebei verbeterd. Voor cog_map is deze zelfs inplaats  van negatief erg positief geworden. Het aantal stappen is voor elke methode aanzienlijk verbeterd."
   ]
  },
  {
   "cell_type": "markdown",
   "metadata": {},
   "source": [
    "# Q Networks\n",
    "\n",
    "We hebben nu nog gewerkt met een kleine wereld met maar maximaal 64 states. De echte wereld, en veel leuke spelletjes, hebben natuurlijk een veel grotere state space, en dan wordt het al snel erg lastig om nog een Q table bij te houden. In zulke gevallen kunnen Q netwerken heel handig zijn, en dan met name Deep Q Networks (DQN). Een deep neural network kan gebruikt worden om de state space een stuk beter generaliseerbaar te maken en om vergelijkbare Q-values toe te kennen aan stes die veel op elkaar lijken. Dit is een zeer waardevolle eigenschap gebleken (zie bijv. het oorspronkelijke DQN paper over Atari games leren spelen [hier](https://arxiv.org/pdf/1312.5602v1.pdf))\n",
    "\n",
    "In deze opdracht gaan we geen deep Q netwerk in elkaar zetten, maar wel een simpel 1-layer Q netwerk. Hiermee leren jullie hoe zulke netwerken werken en hoe het Q learning algoritme kan worden geïmplementeerd in een netwerkn netwerk. We maken hier gebruik van [PyTorch](https://pytorch.org/get-started/locally/), een library waarmee je eenvoudig (deep) neural networks kan definiëren en trainen. Deze library is zeer geschikt voor DQN, en dus ook weer voor de Frozen Lake omgeving.\n",
    "\n",
    "De opdracht is gemaakt in PyTorch 1.3.0, maar moet ook prima werken in versie 1.4.0. Zorg dus dat je een van deze twee hebt geinstalleerd, via bijvoorbeeld ```pip install torch torchvision```."
   ]
  },
  {
   "cell_type": "code",
   "execution_count": 18,
   "metadata": {},
   "outputs": [
    {
     "name": "stdout",
     "output_type": "stream",
     "text": [
      "1.5.0\n"
     ]
    }
   ],
   "source": [
    "# This exercise was built in PyTorch 1.3.0\n",
    "\n",
    "import torch\n",
    "import torch.nn as nn\n",
    "\n",
    "print(torch.__version__)\n",
    "\n",
    "# some PyTorch tips\n",
    "\n",
    "# tensor.unsqueeze(index) adds an extra dimension at index\n",
    "# for example, if our current tensor t is of size (20, ), \n",
    "# t.unsqueeze(0)  --> t.shape = (1, 20)\n",
    "# t.unsqueeze(1)  --> t.shape = (20, 1)\n",
    "# t.unsqueeze(-1) --> t.shape = (20, 1)\n",
    "\n",
    "# t.max() returns (max_value, value_loc), not just max_value\n",
    "\n",
    "# t.item() can only be called if t is a tensor with a single value,\n",
    "# t = [[[[[1]]]]], t = [1] will both return 1 with t.item()\n",
    "\n",
    "# tensors are usually added to the computational graph by default\n",
    "# t.detach() detaches the tensor from the graph, which makes sure \n",
    "# that we dont accidentally calculate the gradient of what should be a\n",
    "# static value.\n",
    "\n",
    "# t.gather(index, LongTensor(values)) is a way to do smart slicing in PyTorch.\n",
    "# the only prerequisite is that t and values are of similar shape at the batch index.\n",
    "# the batch index is usually the first. For example,\n",
    "# q is of shape (1, 4), 4 values for a single state representing q-values for each action\n",
    "# a is of shape (1, 1), a single action performed for that state.\n",
    "# q.gather(1, a) essentially collects the Q value for action a"
   ]
  },
  {
   "cell_type": "markdown",
   "metadata": {},
   "source": [
    "We gaan een simpel Q netwerk opzetten waarbij er voor elke state (16 in totaal) een node is in de input laag, en voor elke actie (4 in totaal) een node in de output laag. Het doel is om de gewichten (weights) van het netwerk zo te trainen dat gegeven een state als input, de 4 outputs corresponderen met de Q-values van de 4 verschillende acties voor die state. Vervolgens kunnen we gewoon een *argmax* gebruiken om de actie met de hoogste Q-value te selecteren. \n",
    "\n",
    "Er zijn 16 input nodes (```feature_size```), waarbij elke state nu gerepresenteerd kan worden met een [one-hot encoding](https://en.wikipedia.org/wiki/One-hot), dus door alleen de input node van die state op 1 te zetten en alle andere input nodes op 0. Het encoderen gebeurt in de class ```OneHotEncoder```, welke als input een state ```x``` neemt en een one-hot versie returned."
   ]
  },
  {
   "cell_type": "code",
   "execution_count": 19,
   "metadata": {},
   "outputs": [],
   "source": [
    "class OneHotEncoder:\n",
    "    \"\"\"\n",
    "    Converts an integer label to a one-hot encoded (torch) tensor.\n",
    "    Additionally supports a batch operation.\n",
    "    \"\"\"\n",
    "    \n",
    "    def __init__(self, feature_size):\n",
    "        self.feature_size = feature_size\n",
    "        \n",
    "    def __call__(self, x):\n",
    "        \"\"\"\n",
    "        x: a list type or scalar\n",
    "        \n",
    "        returns: torch.FloatTensor one-hot encoding of x.\n",
    "        \"\"\"\n",
    "        if not isinstance(x, list):\n",
    "            x = [x]\n",
    "        \n",
    "        batch_size = len(x)\n",
    "        one_hot = torch.FloatTensor(batch_size, self.feature_size).zero_()\n",
    "        \n",
    "        # Only unsqueeze if its not a batch operation.\n",
    "        x = torch.LongTensor(x)\n",
    "        x = x.unsqueeze(-1) if x.ndim < 2 else x\n",
    "\n",
    "        one_hot.scatter_(1, x, 1)\n",
    "        return one_hot"
   ]
  },
  {
   "cell_type": "markdown",
   "metadata": {},
   "source": [
    "In de cell hieronder vind je het Q-netwerk model. De `Linear() q_weights` laag is gedefineerd als de matrix vermenigvuldiging van inputs en weights, dus simpelweg de som van de inputs vermenigvuldigt met de weights voor elke output (deze manier om een neural network te definiëren zou je bekend moeten voorkomen uit **Leren**). Er is hier dus *geen* activatiefunctie (zoals bijv. Sigmoid of ReLU), i.e. dit is een netwerk met alleen een lineaire layer (en daarom is er ook geen bias of intercept aanwezig).\n",
    "\n",
    "We gebruiken hier de Sum Squared Error tussen de berekende Q-values en de eigenlijke Q-values van een state als de loss functie om het netwerk te trainen. Dit is dus ook de functie die geminimaliseerd wordt tijdens het trainen. Je kan de functie ```td_error``` zien aan het einde van de class."
   ]
  },
  {
   "cell_type": "code",
   "execution_count": 20,
   "metadata": {},
   "outputs": [],
   "source": [
    "class LinearQNetwork(nn.Module):\n",
    "    \"\"\"\n",
    "        This class implements a linear Q-learning agent. It has\n",
    "        - a weight matrix q_weights of size (env_features, num_actions)\n",
    "        - a Stochastic Gradient Descent optimizer\n",
    "        - a forward function to calculate the Q value\n",
    "        - an action function that calculates the greedy action to take\n",
    "        - a td-error calculation, where we calculate TD-error for Q-learning\n",
    "        \n",
    "            r_{t+1} + gamma * max_a Q(s_{t+1}, a) - Q(s_t, a_t)\n",
    "        \n",
    "          And we will use the squared error to minimize this error.\n",
    "        \n",
    "        FYI:\n",
    "        super() in the __init__ is being called for a few reason, most notably:\n",
    "        - it automatically gives the model a .backward() function\n",
    "          which calculates how the gradients flow through the network\n",
    "        - LinearQNetwork(input) now forwards input to the 'forward' function.\n",
    "          (model(input) and model.forward(input) is exactly the same.)\n",
    "    \"\"\"\n",
    "    def __init__(self, in_features, num_actions, lr=0.05):\n",
    "        super().__init__()\n",
    "        \n",
    "        self.q_weights = nn.Linear(in_features, num_actions, bias=False)\n",
    "        self.q_weights.weight.data.uniform_(0.0, 0.1)\n",
    "        \n",
    "        self.optimizer = torch.optim.SGD(self.parameters(), lr=lr)\n",
    "            \n",
    "    def forward(self, s):\n",
    "        \"\"\"\n",
    "        s: one-hot encoded state\n",
    "        \n",
    "        Calculate the Q value of the state\n",
    "        \"\"\"\n",
    "        q = self.q_weights(s)\n",
    "        return q\n",
    "    \n",
    "    def action(self, s):\n",
    "        \"\"\"\n",
    "        s: one-hot encoded state\n",
    "        \n",
    "        Calculate the greedy action given state s\n",
    "        \"\"\"\n",
    "        q = self.forward(s)\n",
    "        action = q.argmax(-1).item()\n",
    "        return q, action\n",
    "\n",
    "    def td_error(self, state, action, reward, next_state, gamma, oh):\n",
    "        \"\"\"\n",
    "         we calculate TD-error for Q-learning\n",
    "        \n",
    "            r_{t+1} + gamma * max_a Q(s_{t+1}, a) - Q(s_t, a_t)\n",
    "        \"\"\"        \n",
    "        reward = torch.FloatTensor(reward).unsqueeze(-1)\n",
    "        action = torch.LongTensor(action).unsqueeze(-1)\n",
    "\n",
    "        # Calculate Q(s, ~) and Q(s_next, ~)\n",
    "        q = self(oh(state))\n",
    "        q_next = self(oh(next_state)).detach()\n",
    "                \n",
    "        # Get Q(s, a) and Q(s_next, a_max)\n",
    "        q = q.gather(1, action)\n",
    "        q_next_max = q_next.max(-1)[0].unsqueeze(-1)\n",
    "        q_return = reward + gamma * q_next_max\n",
    "\n",
    "        # Calculate the squared error and perform a SGD step.\n",
    "        loss = (q_return - q).pow(2).sum()\n",
    "        self.optimizer.zero_grad()\n",
    "        loss.backward()\n",
    "        self.optimizer.step()\n",
    "        \n",
    "        # We optionally return the loss. Maybe you can plot it?\n",
    "        return loss.item()"
   ]
  },
  {
   "cell_type": "markdown",
   "metadata": {},
   "source": [
    "Nu wordt het tijd om het netwerk te gaan trainen. Hiervoor schrijven we de functie ` q_network `. We helpen je hier een heel stuk op weg. Loop stap voor stap de code door om te kijken of je elke stap begrijpt en vergelijk deze met de stappen van het standaard `q_learn()` algoritme dat je hierboven hebt gebruikt. "
   ]
  },
  {
   "cell_type": "code",
   "execution_count": 21,
   "metadata": {},
   "outputs": [],
   "source": [
    "def q_network(env, num_episodes=250, num_rounds=99, replay=0, batch_size=32):\n",
    "    y = 0.97\n",
    "    e = 0.3\n",
    "    \n",
    "    oh = OneHotEncoder(feature_size=env.observation_space.n)\n",
    "    agent = LinearQNetwork(in_features=env.observation_space.n, num_actions=env.action_space.n)\n",
    "    initial_w = agent.q_weights.weight.clone().detach().numpy()\n",
    "    \n",
    "    jList = []\n",
    "    rList = []\n",
    "    aList = [] # list of actions\n",
    "    \n",
    "    # for replay\n",
    "    memory = []\n",
    "    d_memory = []\n",
    "    \n",
    "    for _ in range(num_episodes):\n",
    "        # Reset environment and get first new observation\n",
    "        s = env.reset()\n",
    "        rAll = 0\n",
    "        d = False\n",
    "        j = 0\n",
    "        \n",
    "        #The Q-Network, default run it for 99 rounds per episode\n",
    "        while j < num_rounds:\n",
    "            j += 1\n",
    "            \n",
    "            q, greedy_action = agent.action(oh(s))\n",
    "\n",
    "            # Choose an action by greedily (with e chance of random action) from the Q-network\n",
    "            random_action = env.action_space.sample()\n",
    "            a = greedy_action if e < np.random.rand() else random_action\n",
    "            aList.append(a)\n",
    "            \n",
    "            s1, r, d, _ = env.step(a)\n",
    "            \n",
    "            # falling in a hole will hurt \n",
    "            if d and r == 0:\n",
    "                r = -1\n",
    "                \n",
    "            if d: # this is only for experience reply part\n",
    "                d_memory.append((s, a, r, s1, d)) \n",
    "            \n",
    "            memory.append((s, a, r, s1, d)) # this is only for experience reply part\n",
    "\n",
    "            # Train our network, we try to adjust weights in order to \n",
    "            # minimize prediction error or squared error. We currently do not\n",
    "            # use the loss, but you might want to visualize it.\n",
    "            loss = agent.td_error(s, [a], [r], s1, y, oh)\n",
    "            \n",
    "            rAll += r\n",
    "            s = s1\n",
    "                \n",
    "            if d:\n",
    "                break\n",
    "        \n",
    "        # Reduce chance of a random action as we train the model.\n",
    "        e *= 0.995\n",
    "        jList.append(j)\n",
    "        rList.append(rAll)\n",
    "        \n",
    "        # Experience replay \n",
    "        if replay > 0:\n",
    "        #if (rAll/99) < 0 and replay > 0: # only replay succesfull episodes!\n",
    "        \n",
    "            # Select from which buffer to sample\n",
    "            if replay == 1:\n",
    "                sample_from = memory\n",
    "            elif replay == 2:\n",
    "                sample_from = d_memory\n",
    "            elif replay == 3:\n",
    "                if len(memory) > batch_size:\n",
    "                    memory = memory[-batch_size:]\n",
    "                sample_from = memory\n",
    "            \n",
    "            # only update after our buffer has at least 32\n",
    "            # experiences\n",
    "            if len(sample_from) < batch_size:\n",
    "                continue\n",
    "                \n",
    "            # next, we sample 30 experience from the selected buffer\n",
    "            [s, a, r, s1, d] = zip(*random.sample(sample_from, batch_size))\n",
    "            \n",
    "            # We then update our model using this experience\n",
    "            agent.td_error(list(s), a, r, list(s1), y, oh)\n",
    "        \n",
    "    final_w = agent.q_weights.weight.detach().numpy()\n",
    "    print(\"\\nPercent of succesful episodes: \" + str(sum(rList)/num_episodes) + \"%\")\n",
    "    return rList, jList, aList, initial_w, final_w"
   ]
  },
  {
   "cell_type": "markdown",
   "metadata": {},
   "source": [
    "![](QNET.png) \n",
    "Hier zie je een schema van hoe het netwerk eruitziet.\n",
    "\n",
    "# 4.a (5 punten)\n",
    "\n",
    "Run het model voor 1 episode, en 1 ronde. Zo kan je volgen wat er na een stap gebeurd is in het netwerk. Rapporteer de initial weights nog voor de eerste stap gezet wordt, geef ook aan welke actie het model gekozen heeft voor die stap en hoe de nieuwe weights na training eruitzien. Gegeven dat er nu voor maar 1 ronde geleerd wordt zullen de enige weights die worden aangepast de weights uit de starting state 0 zijn, dus vergelijk alleen weights die bij deze state horen.\n",
    "\n",
    "Geef aan hoe dit in vergelijking is met de `q_learn()`. Verwijs in je uitleg ook naar prediction errors. \n"
   ]
  },
  {
   "cell_type": "code",
   "execution_count": 22,
   "metadata": {},
   "outputs": [
    {
     "name": "stdout",
     "output_type": "stream",
     "text": [
      "\n",
      "Percent of succesful episodes: 0.0%\n",
      "De startwaarde voor de weights zijn: [0.01977492 0.07100318 0.00873856 0.08240545]\n",
      "De geleerde weights na 1 trial zijn: [0.01977492 0.07100318 0.00873856 0.08215823]\n",
      "Er is dus de *3*e stap gekozen, de vernieuwing is [ 0.          0.          0.         -0.00024722]\n"
     ]
    }
   ],
   "source": [
    "env = env_4x4\n",
    "s = env.reset()\n",
    "R, J, A, Wi, Wf = q_network(env, num_episodes=1, num_rounds=1)\n",
    "\n",
    "print(\"De startwaarde voor de weights zijn: {}\".format(Wi[:,0]))\n",
    "print(\"De geleerde weights na 1 trial zijn: {}\".format(Wf[:,0]))\n",
    "print(\"Er is dus de *{}*e stap gekozen, de vernieuwing is {}\".format(A[0], Wf[:,0] - Wi[:,0]))\n",
    "\n",
    "# In (Wf - Wi) kun je zien welke weight er in die stap veranderd is,\n",
    "# en hoe. In deze implementatie worden de weights veranderd om de prediction err - r te minimaliseren,\n",
    "# dit verschilt van de standaard q_learn functie waar de Q waarden steeds geupdatet worden ahv de\n",
    "# prediction error die gegeven is voor het doen van een bepaalde stap. Dit betekent dat q_network\n",
    "# bij elke genomen stap iets 'leert', maar q_learn leert alleen van het maken van een foute stap/het\n",
    "# doel behalen."
   ]
  },
  {
   "cell_type": "markdown",
   "metadata": {},
   "source": [
    "# 4.b (5 punten)\n",
    "\n",
    "Run nu nogmaals het netwerk maar nu met 500 episodes en 99 rounds per episode. Laat net als bij `q_learn` nu zien hoe goed het netwerk is over tijd (rewards & number of steps). Maar laat nu ook zien wat de weights/Q-values zijn voor de vier mogelijke acties in het hokje links naast de frisbee (state 14). Heeft de beste actie ook de hoogste waarde?\n",
    "\n",
    "Gegeven dat states in dit model gepresenteerd worden met een one-hot encoding, en dat het model alleen uit 1 lineaire laag bestaat, worden de Q-values in dit simpele model nog op een vrij directe manier geleerd. Wat is hier dus de relatie tussen de weight matrix en Q-table?\n"
   ]
  },
  {
   "cell_type": "code",
   "execution_count": 23,
   "metadata": {},
   "outputs": [
    {
     "name": "stdout",
     "output_type": "stream",
     "text": [
      "\n",
      "Percent of succesful episodes: 0.724%\n",
      "6\n",
      "0.724\n",
      "[0.33121178 0.7256564  1.0759104  0.5547542 ]\n"
     ]
    },
    {
     "data": {
      "image/png": "[encoded data removed]",
      "text/plain": [
       "<Figure size 432x288 with 1 Axes>"
      ]
     },
     "metadata": {
      "needs_background": "light"
     },
     "output_type": "display_data"
    }
   ],
   "source": [
    "env = env_4x4\n",
    "s = env.reset()\n",
    "R, J, A, Wi, Wf = q_network(env, num_episodes=500, num_rounds=99)\n",
    "\n",
    "route = [J[i] for i, r in enumerate(R) if r == 1]\n",
    "print(min(route))\n",
    "\n",
    "print(np.average(R))\n",
    "R = np.array(R)\n",
    "resultR = R[:(R.size // width * width)].reshape(-1, width).mean(axis=1)\n",
    "plt.plot(resultR, label=r\"$1$\")\n",
    "\n",
    "print(Wf[:,14])\n",
    "\n",
    "# De kortste route is 6 stappen, en de gemiddelde reward is ~0.6. De 'beste' actie\n",
    "# (naar rechts gaan) heeft inderdaad de hoogste waarde, naar rechts gaan is nodig om\n",
    "# het doel te bereiken aangezien de robot links begint. Omdat er maar 1 laag bestaat\n",
    "# in dit model is de weight matrix ongeveer hetzelfde als de Q-table, ze geven allebei\n",
    "# met één parameter weer welke stappen gunstig zijn en welke minder."
   ]
  },
  {
   "cell_type": "markdown",
   "metadata": {},
   "source": [
    "# Bonus vraag"
   ]
  },
  {
   "cell_type": "code",
   "execution_count": null,
   "metadata": {},
   "outputs": [],
   "source": []
  },
  {
   "cell_type": "markdown",
   "metadata": {},
   "source": [
    "# 4.c Experience Replay (10 punten)\n",
    "\n",
    "Q_networks zijn op vele manier uitgebreid om nog beter te kunnen leren. Een ding wat we al genoemd hebben is bijvoorbeeld het toevoegen van meerdere lagen. Een ander idee is experience replay, gebaseerd op hoe onze hersenen werken. De gedachte achter experience relay is dat de robot tussen leer episodes door in zijn geheugen graaft en kijkt wat hij hiervoor gedaan heeft en wat de uitkomst daar van was. Deze herinneringen worden dan weer gebruikt om van te leren (alsof elke herinnering weer een echte gebeurtenis was). Experience replay wordt veel gebruikt in reinforcement learning, de DQN Atari paper gelinked in de section *Q networks* maakt hier bijvoorbeeld ook gebruik van.\n",
    "\n",
    "Wat we hier gaan doen is experience replay toevoegen aan het Q_netwerk. Je hebt hier eigenlijk maar een ding voor nodig; een memory buffer (`memory =[]`)\n",
    "\n",
    "In deze buffer sla je voor elke episode van elke run op wat er gebeurde. De staat waar in je was, welke actie je hebt ondernomen, of je een beloning kreeg, welke staat je terecht kwam en of dit het einde van de episode was):   `memory.append((s, a[0], r, s1, d))`\n",
    "\n",
    "Aan het eind van elke episode haal je dan 30 keer een willekeurige herninnering boven en speelt deze weer uit alsof het echt gebeurde (dus zorgt voor een zelfde update in weights als normaal leren). Bij het begin van een nieuwe leer episode wordt de buffer weer leeggemaakt om ruimte te maken voor nieuwe evaringen. \n",
    "\n",
    "Implementeer deze experience replay. Vergelijk de prestatie van het model met en zonder replay, door beide modellen op z'n minst 10 keer aan te roepen en te kijken naar de verschillen in gemiddelde beloning. "
   ]
  },
  {
   "cell_type": "markdown",
   "metadata": {},
   "source": [
    "> Telde niet meer mee"
   ]
  },
  {
   "cell_type": "markdown",
   "metadata": {},
   "source": [
    "# 4.d Better memories (5 punten)\n",
    "We hebben nu naar replay gekeken waarbij je naar willekeurige herinneringen gaat kijken. Voor DQNs leidt dit al tot zeer goede resultaten, maar het kan beter. Er zijn verschillende algoritmes bedacht waarbij niet naar willekeurige maar juist naar specifieke herinneringen wordt gekeken om het leren nog verder te optimaliseren. Bedenk en implementeer een vorm van optimalisatie van de replay functie, en test deze ook. Schrijf in je antwoord je motivatie voor je aanpassing (die is belangrijker dan het slagen er van). Moge de beste aanpassing winnen! "
   ]
  },
  {
   "cell_type": "markdown",
   "metadata": {},
   "source": [
    "> Telde niet meer mee"
   ]
  },
  {
   "cell_type": "markdown",
   "metadata": {},
   "source": [
    "# Next step: Deep Q Networks! \n",
    "Open hiervoor 0_intro deep Q learning in de folder `ColabNotebooks`. Daar zijn ook nog punten mee te behalen, maar vooral heel veel te leren. Als je die af hebt ben je helemaal bij met de laatste ontwikkelingen in Machine Learning; Deep Q Nets! "
   ]
  },
  {
   "cell_type": "code",
   "execution_count": null,
   "metadata": {},
   "outputs": [],
   "source": []
  }
 ],
 "metadata": {
  "kernelspec": {
   "display_name": "Python 3",
   "language": "python",
   "name": "python3"
  },
  "language_info": {
   "codemirror_mode": {
    "name": "ipython",
    "version": 3
   },
   "file_extension": ".py",
   "mimetype": "text/x-python",
   "name": "python",
   "nbconvert_exporter": "python",
   "pygments_lexer": "ipython3",
   "version": "3.8.3"
  }
 },
 "nbformat": 4,
 "nbformat_minor": 2
}
